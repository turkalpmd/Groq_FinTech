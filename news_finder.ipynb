{
 "cells": [
  {
   "cell_type": "code",
   "execution_count": 32,
   "metadata": {},
   "outputs": [
    {
     "name": "stdout",
     "output_type": "stream",
     "text": [
      "{\n",
      "    \"items\": \"0\",\n",
      "    \"sentiment_score_definition\": \"x <= -0.35: Bearish; -0.35 < x <= -0.15: Somewhat-Bearish; -0.15 < x < 0.15: Neutral; 0.15 <= x < 0.35: Somewhat_Bullish; x >= 0.35: Bullish\",\n",
      "    \"relevance_score_definition\": \"0 < x <= 1, with a higher score indicating higher relevance.\",\n",
      "    \"feed\": []\n",
      "}\n"
     ]
    }
   ],
   "source": [
    "import requests\n",
    "import json\n",
    "import os\n",
    "from dotenv import load_dotenv\n",
    "load_dotenv()\n",
    "alphavantageapikey = os.getenv(\"alphavantageapikey\")\n",
    "\n",
    "url = 'https://www.alphavantage.co/query?function=NEWS_SENTIMENT&tickers=OKLO&apikey=HUU29CSQJ1HTZQGI'\n",
    "r = requests.get(url)\n",
    "data = r.json()\n",
    "\n",
    "# Güzel formatlanmış JSON verisini yazdır\n",
    "print(json.dumps(data, indent=4))\n"
   ]
  },
  {
   "cell_type": "code",
   "execution_count": 33,
   "metadata": {},
   "outputs": [
    {
     "name": "stdout",
     "output_type": "stream",
     "text": [
      "{'bestMatches': [{'1. symbol': 'OKLO', '2. name': 'AltC Acquisition Corp - Class A', '3. type': 'Equity', '4. region': 'United States', '5. marketOpen': '09:30', '6. marketClose': '16:00', '7. timezone': 'UTC-04', '8. currency': 'USD', '9. matchScore': '1.0000'}, {'1. symbol': 'OKLOF', '2. name': 'Oklo Resources Ltd', '3. type': 'Equity', '4. region': 'United States', '5. marketOpen': '09:30', '6. marketClose': '16:00', '7. timezone': 'UTC-04', '8. currency': 'USD', '9. matchScore': '0.8889'}]}\n"
     ]
    }
   ],
   "source": [
    "\n",
    "url =f'https://www.alphavantage.co/query?function=SYMBOL_SEARCH&keywords=oklo&apikey={alphavantageapikey}'\n",
    "r = requests.get(url)\n",
    "data = r.json()\n",
    "print(data)"
   ]
  },
  {
   "cell_type": "code",
   "execution_count": 34,
   "metadata": {},
   "outputs": [
    {
     "name": "stdout",
     "output_type": "stream",
     "text": [
      "{\n",
      "    \"status\": \"ok\",\n",
      "    \"totalResults\": 0,\n",
      "    \"articles\": []\n",
      "}\n"
     ]
    }
   ],
   "source": [
    "\n",
    "newsapikey = os.getenv(\"newsapikey\")\n",
    "\n",
    "url = ('https://newsapi.org/v2/everything?'\n",
    "       'q=OKLO%NSE&'\n",
    "       'from=2024-06-20&'\n",
    "       'sortBy=popularity&'\n",
    "       f'apiKey={newsapikey}')\n",
    "\n",
    "response = requests.get(url)\n",
    "\n",
    "# Güzel formatlanmış JSON verisini yazdır\n",
    "data = response.json()\n",
    "print(json.dumps(data, indent=4))\n"
   ]
  },
  {
   "cell_type": "code",
   "execution_count": null,
   "metadata": {},
   "outputs": [],
   "source": []
  }
 ],
 "metadata": {
  "kernelspec": {
   "display_name": "uitools",
   "language": "python",
   "name": "python3"
  },
  "language_info": {
   "codemirror_mode": {
    "name": "ipython",
    "version": 3
   },
   "file_extension": ".py",
   "mimetype": "text/x-python",
   "name": "python",
   "nbconvert_exporter": "python",
   "pygments_lexer": "ipython3",
   "version": "3.9.19"
  }
 },
 "nbformat": 4,
 "nbformat_minor": 2
}
